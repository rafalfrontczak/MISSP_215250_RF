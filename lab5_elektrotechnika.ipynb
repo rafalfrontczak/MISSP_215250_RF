{
  "nbformat": 4,
  "nbformat_minor": 0,
  "metadata": {
    "colab": {
      "name": "lab5_elektrotechnika.ipynb",
      "provenance": []
    },
    "kernelspec": {
      "name": "python3",
      "display_name": "Python 3"
    }
  },
  "cells": [
    {
      "cell_type": "markdown",
      "metadata": {
        "id": "Ch1egKq89aBw"
      },
      "source": [
        "Na dziszejszych zajęciach mogliśmy poznać jak rozwiązywać problemy liniowe na przykładzie zadań z elektrotechniki\r\n",
        "\r\n",
        "Zadanie 1\r\n",
        "\r\n",
        "Dla układu mostka przedstawionego poniżej należy dobrać odpowiednie wartości rezystorów oraz moc wydzielana przez nasz układ.\r\n",
        "Aby wykonać powyższe założenia należy uwzględnić znane wartości napięć oraz maksymalne  wartości prądów na poszczególnych elemntach\r\n",
        "![obraz.png](data:image/png;base64,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)\r\n",
        "\r\n",
        "Dane:\r\n",
        "\r\n",
        "R1;6V;4mA\r\n",
        "\r\n",
        "R2;10V;2mA\r\n",
        "\r\n",
        "R3;4V;2mA\r\n",
        "\r\n",
        "R4;7V;2mA\r\n",
        "\r\n",
        "R5;3V;4mA"
      ]
    },
    {
      "cell_type": "code",
      "metadata": {
        "colab": {
          "base_uri": "https://localhost:8080/"
        },
        "id": "2GCY8VZl_6Gc",
        "outputId": "c40d9025-f169-43a1-f4bd-fed4765336dd"
      },
      "source": [
        "!pip install pulp\r\n",
        "\r\n",
        "!sudo apt-get install coinor-cbc glpk-utils coinor-clp"
      ],
      "execution_count": 1,
      "outputs": [
        {
          "output_type": "stream",
          "text": [
            "Collecting pulp\n",
            "\u001b[?25l  Downloading https://files.pythonhosted.org/packages/14/c4/0eec14a0123209c261de6ff154ef3be5cad3fd557c084f468356662e0585/PuLP-2.4-py3-none-any.whl (40.6MB)\n",
            "\u001b[K     |████████████████████████████████| 40.6MB 109kB/s \n",
            "\u001b[?25hCollecting amply>=0.1.2\n",
            "  Downloading https://files.pythonhosted.org/packages/f3/c5/dfa09dd2595a2ab2ab4e6fa7bebef9565812722e1980d04b0edce5032066/amply-0.1.4-py3-none-any.whl\n",
            "Requirement already satisfied: pyparsing in /usr/local/lib/python3.6/dist-packages (from amply>=0.1.2->pulp) (2.4.7)\n",
            "Requirement already satisfied: docutils>=0.3 in /usr/local/lib/python3.6/dist-packages (from amply>=0.1.2->pulp) (0.16)\n",
            "Installing collected packages: amply, pulp\n",
            "Successfully installed amply-0.1.4 pulp-2.4\n",
            "Reading package lists... Done\n",
            "Building dependency tree       \n",
            "Reading state information... Done\n",
            "The following additional packages will be installed:\n",
            "  coinor-libcbc3 coinor-libcgl1 coinor-libclp1 coinor-libcoinutils3v5\n",
            "  coinor-libosi1v5 libamd2 libcolamd2 libglpk40 libsuitesparseconfig5\n",
            "Suggested packages:\n",
            "  libiodbc2-dev default-libmysqlclient-dev\n",
            "The following NEW packages will be installed:\n",
            "  coinor-cbc coinor-clp coinor-libcbc3 coinor-libcgl1 coinor-libclp1\n",
            "  coinor-libcoinutils3v5 coinor-libosi1v5 glpk-utils libamd2 libcolamd2\n",
            "  libglpk40 libsuitesparseconfig5\n",
            "0 upgraded, 12 newly installed, 0 to remove and 15 not upgraded.\n",
            "Need to get 3,439 kB of archives.\n",
            "After this operation, 9,832 kB of additional disk space will be used.\n",
            "Get:1 http://archive.ubuntu.com/ubuntu bionic/main amd64 libsuitesparseconfig5 amd64 1:5.1.2-2 [9,044 B]\n",
            "Get:2 http://archive.ubuntu.com/ubuntu bionic/main amd64 libamd2 amd64 1:5.1.2-2 [19.5 kB]\n",
            "Get:3 http://archive.ubuntu.com/ubuntu bionic/main amd64 libcolamd2 amd64 1:5.1.2-2 [16.2 kB]\n",
            "Get:4 http://archive.ubuntu.com/ubuntu bionic/universe amd64 libglpk40 amd64 4.65-1 [378 kB]\n",
            "Get:5 http://archive.ubuntu.com/ubuntu bionic/universe amd64 glpk-utils amd64 4.65-1 [269 kB]\n",
            "Get:6 http://archive.ubuntu.com/ubuntu bionic/universe amd64 coinor-libcoinutils3v5 amd64 2.10.14+repack1-1 [472 kB]\n",
            "Get:7 http://archive.ubuntu.com/ubuntu bionic/universe amd64 coinor-libosi1v5 amd64 0.107.9+repack1-1 [270 kB]\n",
            "Get:8 http://archive.ubuntu.com/ubuntu bionic/universe amd64 coinor-libclp1 amd64 1.16.11+repack1-1 [863 kB]\n",
            "Get:9 http://archive.ubuntu.com/ubuntu bionic/universe amd64 coinor-libcgl1 amd64 0.59.10+repack1-1 [433 kB]\n",
            "Get:10 http://archive.ubuntu.com/ubuntu bionic/universe amd64 coinor-libcbc3 amd64 2.9.9+repack1-1 [687 kB]\n",
            "Get:11 http://archive.ubuntu.com/ubuntu bionic/universe amd64 coinor-cbc amd64 2.9.9+repack1-1 [11.2 kB]\n",
            "Get:12 http://archive.ubuntu.com/ubuntu bionic/universe amd64 coinor-clp amd64 1.16.11+repack1-1 [9,646 B]\n",
            "Fetched 3,439 kB in 1s (3,691 kB/s)\n",
            "debconf: unable to initialize frontend: Dialog\n",
            "debconf: (No usable dialog-like program is installed, so the dialog based frontend cannot be used. at /usr/share/perl5/Debconf/FrontEnd/Dialog.pm line 76, <> line 12.)\n",
            "debconf: falling back to frontend: Readline\n",
            "debconf: unable to initialize frontend: Readline\n",
            "debconf: (This frontend requires a controlling tty.)\n",
            "debconf: falling back to frontend: Teletype\n",
            "dpkg-preconfigure: unable to re-open stdin: \n",
            "Selecting previously unselected package libsuitesparseconfig5:amd64.\n",
            "(Reading database ... 145480 files and directories currently installed.)\n",
            "Preparing to unpack .../00-libsuitesparseconfig5_1%3a5.1.2-2_amd64.deb ...\n",
            "Unpacking libsuitesparseconfig5:amd64 (1:5.1.2-2) ...\n",
            "Selecting previously unselected package libamd2:amd64.\n",
            "Preparing to unpack .../01-libamd2_1%3a5.1.2-2_amd64.deb ...\n",
            "Unpacking libamd2:amd64 (1:5.1.2-2) ...\n",
            "Selecting previously unselected package libcolamd2:amd64.\n",
            "Preparing to unpack .../02-libcolamd2_1%3a5.1.2-2_amd64.deb ...\n",
            "Unpacking libcolamd2:amd64 (1:5.1.2-2) ...\n",
            "Selecting previously unselected package libglpk40:amd64.\n",
            "Preparing to unpack .../03-libglpk40_4.65-1_amd64.deb ...\n",
            "Unpacking libglpk40:amd64 (4.65-1) ...\n",
            "Selecting previously unselected package glpk-utils.\n",
            "Preparing to unpack .../04-glpk-utils_4.65-1_amd64.deb ...\n",
            "Unpacking glpk-utils (4.65-1) ...\n",
            "Selecting previously unselected package coinor-libcoinutils3v5.\n",
            "Preparing to unpack .../05-coinor-libcoinutils3v5_2.10.14+repack1-1_amd64.deb ...\n",
            "Unpacking coinor-libcoinutils3v5 (2.10.14+repack1-1) ...\n",
            "Selecting previously unselected package coinor-libosi1v5.\n",
            "Preparing to unpack .../06-coinor-libosi1v5_0.107.9+repack1-1_amd64.deb ...\n",
            "Unpacking coinor-libosi1v5 (0.107.9+repack1-1) ...\n",
            "Selecting previously unselected package coinor-libclp1.\n",
            "Preparing to unpack .../07-coinor-libclp1_1.16.11+repack1-1_amd64.deb ...\n",
            "Unpacking coinor-libclp1 (1.16.11+repack1-1) ...\n",
            "Selecting previously unselected package coinor-libcgl1.\n",
            "Preparing to unpack .../08-coinor-libcgl1_0.59.10+repack1-1_amd64.deb ...\n",
            "Unpacking coinor-libcgl1 (0.59.10+repack1-1) ...\n",
            "Selecting previously unselected package coinor-libcbc3.\n",
            "Preparing to unpack .../09-coinor-libcbc3_2.9.9+repack1-1_amd64.deb ...\n",
            "Unpacking coinor-libcbc3 (2.9.9+repack1-1) ...\n",
            "Selecting previously unselected package coinor-cbc.\n",
            "Preparing to unpack .../10-coinor-cbc_2.9.9+repack1-1_amd64.deb ...\n",
            "Unpacking coinor-cbc (2.9.9+repack1-1) ...\n",
            "Selecting previously unselected package coinor-clp.\n",
            "Preparing to unpack .../11-coinor-clp_1.16.11+repack1-1_amd64.deb ...\n",
            "Unpacking coinor-clp (1.16.11+repack1-1) ...\n",
            "Setting up libsuitesparseconfig5:amd64 (1:5.1.2-2) ...\n",
            "Setting up libcolamd2:amd64 (1:5.1.2-2) ...\n",
            "Setting up coinor-libcoinutils3v5 (2.10.14+repack1-1) ...\n",
            "Setting up coinor-libosi1v5 (0.107.9+repack1-1) ...\n",
            "Setting up coinor-libclp1 (1.16.11+repack1-1) ...\n",
            "Setting up libamd2:amd64 (1:5.1.2-2) ...\n",
            "Setting up coinor-libcgl1 (0.59.10+repack1-1) ...\n",
            "Setting up libglpk40:amd64 (4.65-1) ...\n",
            "Setting up coinor-clp (1.16.11+repack1-1) ...\n",
            "Setting up coinor-libcbc3 (2.9.9+repack1-1) ...\n",
            "Setting up glpk-utils (4.65-1) ...\n",
            "Setting up coinor-cbc (2.9.9+repack1-1) ...\n",
            "Processing triggers for man-db (2.8.3-2ubuntu0.1) ...\n",
            "Processing triggers for libc-bin (2.27-3ubuntu1.2) ...\n",
            "/sbin/ldconfig.real: /usr/local/lib/python3.6/dist-packages/ideep4py/lib/libmkldnn.so.0 is not a symbolic link\n",
            "\n"
          ],
          "name": "stdout"
        }
      ]
    },
    {
      "cell_type": "code",
      "metadata": {
        "colab": {
          "base_uri": "https://localhost:8080/"
        },
        "id": "3c7blsOgAUpe",
        "outputId": "6ea446fd-0cfa-4ade-958d-a14519c8b2bb"
      },
      "source": [
        "from pulp import *\r\n",
        "\r\n",
        "Prądy = ['i1', 'i2', 'i3', 'i4', 'i5']\r\n",
        "Napięcia = {'i1':6,'i2':10,'i3':4,'i4':7,'i5':3}\r\n",
        "Limit = {'i1':4,'i2':2,'i3':2,'i4':2,'i5':4}\r\n",
        "delta = 1\r\n",
        "\r\n",
        "prob = LpProblem(\"Mostek\",LpMinimize)\r\n",
        "i_vars = LpVariable.dicts(\"\",Prądy,0)\r\n",
        "\r\n",
        "prob += lpSum([Napięcia[i]*i_vars[i] for i in Prądy]),\"Moc\"\r\n",
        "\r\n",
        "prob += lpSum([i_vars['i1'],-i_vars['i4'],-i_vars['i3']]) == 0\r\n",
        "prob += lpSum([i_vars['i2'],-i_vars['i5'],i_vars['i3']]) == 0\r\n",
        "prob += lpSum([i_vars['i5'],i_vars['i4'],-i_vars['i2'],-i_vars['i1']]) == 0\r\n",
        "\r\n",
        "for i in Prądy:\r\n",
        " prob += i_vars[i] >= Limit[i] - delta, \"{}_min\".format(i)\r\n",
        " prob += i_vars[i] <= Limit[i] + delta, \"{}_max\".format(i)\r\n",
        "\r\n",
        "prob.solve()\r\n",
        "i = 0\r\n",
        "for v in prob.variables():\r\n",
        "    print(\"R{} = {}kΩ ({}mA)\".format(i+1,Napięcia['i'+str(i+1)]/v.varValue,v.varValue))\r\n",
        "    i+=1\r\n",
        "print(\"Moc mostka \")\r\n",
        "print(str(prob.objective.value()) + 'mW')\r\n"
      ],
      "execution_count": 11,
      "outputs": [
        {
          "output_type": "stream",
          "text": [
            "R1 = 2.0kΩ (3.0mA)\n",
            "R2 = 10.0kΩ (1.0mA)\n",
            "R3 = 2.0kΩ (2.0mA)\n",
            "R4 = 7.0kΩ (1.0mA)\n",
            "R5 = 1.0kΩ (3.0mA)\n",
            "Moc mostka \n",
            "52.0mW\n"
          ],
          "name": "stdout"
        }
      ]
    },
    {
      "cell_type": "markdown",
      "metadata": {
        "id": "M9VVmnLwD2Lm"
      },
      "source": [
        "Zadanie 2\r\n",
        "\r\n",
        "Dla układu dwójnika przedstawionego poniżej należy dobrać odpowiednie wartości rezystorów oraz określić jaki maksymalny prąd może płynąć przez ten dwójnik.\r\n",
        "Aby to obliczyć należy uwzględnić maksymalne prądy na poszczehólnych elementach.\r\n",
        "\r\n",
        "![obraz.png](data:image/png;base64,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)\r\n",
        "\r\n",
        "Dane:\r\n",
        "\r\n",
        "Gałęź 1;8 Ohm; 2A\r\n",
        "\r\n",
        "Gałęź 2;6 Ohm; 3A\r\n",
        "\r\n",
        "Gałęź 3;4 Ohm; 4A\r\n",
        "\r\n",
        "Gałęź 4;10 Ohm; 2A\r\n",
        "\r\n",
        "Gałęź 5;8 Ohm; 2A"
      ]
    },
    {
      "cell_type": "code",
      "metadata": {
        "colab": {
          "base_uri": "https://localhost:8080/"
        },
        "id": "c6zvE_K_FbOe",
        "outputId": "c01ee7f8-2676-43a3-a7f9-54a29106a5a2"
      },
      "source": [
        "from pulp import *\r\n",
        "\r\n",
        "Prądy = ['i1', 'i2', 'i3', 'i4', 'i5']\r\n",
        "Limit = [2,3,4,2,2]\r\n",
        "Rezystor = [8,6,4,10,8]\r\n",
        "\r\n",
        "prob = LpProblem(\"Układ\",LpMaximize)\r\n",
        "\r\n",
        "i_vars = LpVariable.dicts(\"Prądy\",Prądy,0)\r\n",
        "\r\n",
        "\r\n",
        "prob += i_vars['i3']\r\n",
        "\r\n",
        "# Równania wynikające z praw Kirhoffa\r\n",
        "prob += i_vars['i1'] + i_vars['i2'] - i_vars['i3'] == 0, \r\n",
        "prob += i_vars['i3'] - i_vars['i4'] - i_vars['i5'] == 0, \r\n",
        "prob += i_vars['i1']*Rezystor[0] == i_vars['i2']*Rezystor[1], \r\n",
        "prob += i_vars['i4']*Rezystor[3] == i_vars['i5']*Rezystor[4], \r\n",
        "\r\n",
        "for i, val in enumerate(Prądy):\r\n",
        "    prob += i_vars[val] <= Limit[i]\r\n",
        "\r\n",
        "prob.solve()\r\n",
        "results = [];\r\n",
        "\r\n",
        "for v in prob.variables():\r\n",
        "    results.append(v.varValue)\r\n",
        "\r\n",
        "print('Prąd w poszczególnych gałęziach:')\r\n",
        "for i in range(len(results)):\r\n",
        "    print(Prądy[i] + ' = ' + str(results[i])  + ' A')\r\n",
        "\r\n",
        "print('Maksymalny prad dwójnika:')\r\n",
        "\r\n",
        "print(str(prob.objective.value()) + 'A')"
      ],
      "execution_count": 23,
      "outputs": [
        {
          "output_type": "stream",
          "text": [
            "Prąd w poszczególnych gałęziach:\n",
            "i1 = 1.5428571 A\n",
            "i2 = 2.0571429 A\n",
            "i3 = 3.6 A\n",
            "i4 = 1.6 A\n",
            "i5 = 2.0 A\n",
            "Maksymalny prad dwójnika:\n",
            "3.6A\n"
          ],
          "name": "stdout"
        }
      ]
    }
  ]
}
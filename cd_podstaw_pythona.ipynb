{
  "nbformat": 4,
  "nbformat_minor": 0,
  "metadata": {
    "kernelspec": {
      "display_name": "Python 3",
      "language": "python",
      "name": "python3"
    },
    "language_info": {
      "codemirror_mode": {
        "name": "ipython",
        "version": 3
      },
      "file_extension": ".py",
      "mimetype": "text/x-python",
      "name": "python",
      "nbconvert_exporter": "python",
      "pygments_lexer": "ipython3",
      "version": "3.7.3"
    },
    "colab": {
      "name": "cd_podstaw_pythona.ipynb",
      "provenance": [],
      "collapsed_sections": []
    }
  },
  "cells": [
    {
      "cell_type": "code",
      "metadata": {
        "id": "yEjKAvudUDfI"
      },
      "source": [
        "import numpy as np"
      ],
      "execution_count": null,
      "outputs": []
    },
    {
      "cell_type": "code",
      "metadata": {
        "id": "jfefSOkhUDfZ"
      },
      "source": [
        "a_list= [1,2,3,4,5, [1,2,3], \"temat\"] # nie idealna lista\n",
        "k_krotka = (1,2,3,4,5, [1,2,3], \"temat\")\n",
        "b_list = [1,2,3,4,5]\n",
        "n_array = np.array(b_list) # wektor numpy\n"
      ],
      "execution_count": null,
      "outputs": []
    },
    {
      "cell_type": "code",
      "metadata": {
        "id": "D2jzr_coUDfp",
        "outputId": "70321537-2001-4487-92b6-4688adcb1366"
      },
      "source": [
        "a_list+b_list\n",
        "n_array+n_array"
      ],
      "execution_count": null,
      "outputs": [
        {
          "output_type": "execute_result",
          "data": {
            "text/plain": [
              "array([ 2,  4,  6,  8, 10])"
            ]
          },
          "metadata": {
            "tags": []
          },
          "execution_count": 13
        }
      ]
    },
    {
      "cell_type": "code",
      "metadata": {
        "id": "S8tOqPgSUDf0",
        "outputId": "2cc78386-6ef8-4090-a1e7-f1a55b58373c"
      },
      "source": [
        "a_list[3]"
      ],
      "execution_count": null,
      "outputs": [
        {
          "output_type": "error",
          "ename": "NameError",
          "evalue": "name 'k_list' is not defined",
          "traceback": [
            "\u001b[0;31m---------------------------------------------------------------------------\u001b[0m",
            "\u001b[0;31mNameError\u001b[0m                                 Traceback (most recent call last)",
            "\u001b[0;32m<ipython-input-12-a1492b151a5c>\u001b[0m in \u001b[0;36m<module>\u001b[0;34m\u001b[0m\n\u001b[0;32m----> 1\u001b[0;31m \u001b[0mk_list\u001b[0m\u001b[0;34m[\u001b[0m\u001b[0;36m3\u001b[0m\u001b[0;34m]\u001b[0m\u001b[0;34m\u001b[0m\u001b[0;34m\u001b[0m\u001b[0m\n\u001b[0m",
            "\u001b[0;31mNameError\u001b[0m: name 'k_list' is not defined"
          ]
        }
      ]
    },
    {
      "cell_type": "code",
      "metadata": {
        "id": "yme1MwcVUDf6",
        "outputId": "f313f677-523a-4349-f45b-46363b52b9ad"
      },
      "source": [
        "a_list.append(100)\n",
        "print(a_list)"
      ],
      "execution_count": null,
      "outputs": [
        {
          "output_type": "stream",
          "text": [
            "[1, 2, 3, 4, 5, [1, 2, 3], 'temat', 100, 100]\n"
          ],
          "name": "stdout"
        }
      ]
    },
    {
      "cell_type": "code",
      "metadata": {
        "id": "iY_ivLnYUDgC",
        "outputId": "907c29f1-7716-416b-ec18-3df6796815ac"
      },
      "source": [
        "k_krotka[4]"
      ],
      "execution_count": null,
      "outputs": [
        {
          "output_type": "execute_result",
          "data": {
            "text/plain": [
              "5"
            ]
          },
          "metadata": {
            "tags": []
          },
          "execution_count": 13
        }
      ]
    },
    {
      "cell_type": "code",
      "metadata": {
        "id": "IuTZiUM2UDgJ",
        "outputId": "2ca9e1c2-d950-4e73-98db-80d68b6b5b12"
      },
      "source": [
        "k_krotka.append(100)"
      ],
      "execution_count": null,
      "outputs": [
        {
          "output_type": "error",
          "ename": "AttributeError",
          "evalue": "'tuple' object has no attribute 'append'",
          "traceback": [
            "\u001b[0;31m---------------------------------------------------------------------------\u001b[0m",
            "\u001b[0;31mAttributeError\u001b[0m                            Traceback (most recent call last)",
            "\u001b[0;32m<ipython-input-14-4da2f0146474>\u001b[0m in \u001b[0;36m<module>\u001b[0;34m\u001b[0m\n\u001b[0;32m----> 1\u001b[0;31m \u001b[0mk_krotka\u001b[0m\u001b[0;34m.\u001b[0m\u001b[0mappend\u001b[0m\u001b[0;34m(\u001b[0m\u001b[0;36m100\u001b[0m\u001b[0;34m)\u001b[0m\u001b[0;34m\u001b[0m\u001b[0;34m\u001b[0m\u001b[0m\n\u001b[0m",
            "\u001b[0;31mAttributeError\u001b[0m: 'tuple' object has no attribute 'append'"
          ]
        }
      ]
    },
    {
      "cell_type": "code",
      "metadata": {
        "id": "9F_YPtw4UDgO",
        "outputId": "cc0af60a-bde3-4057-da54-15fbda63c7dd"
      },
      "source": [
        "np.array(b_list)+np.array(b_list)"
      ],
      "execution_count": null,
      "outputs": [
        {
          "output_type": "execute_result",
          "data": {
            "text/plain": [
              "array([ 2,  4,  6,  8, 10])"
            ]
          },
          "metadata": {
            "tags": []
          },
          "execution_count": 8
        }
      ]
    },
    {
      "cell_type": "code",
      "metadata": {
        "id": "SPBuR337UDgU"
      },
      "source": [
        "n_array = np.array(a_list) # wektor numpy"
      ],
      "execution_count": null,
      "outputs": []
    },
    {
      "cell_type": "code",
      "metadata": {
        "id": "sva14RsjUDga",
        "outputId": "9987e8ae-8b19-4948-a730-d305761f8a28"
      },
      "source": [
        "n_array"
      ],
      "execution_count": null,
      "outputs": [
        {
          "output_type": "execute_result",
          "data": {
            "text/plain": [
              "array([1, 2, 3, 4, 5, list([1, 2, 3]), 'temat'], dtype=object)"
            ]
          },
          "metadata": {
            "tags": []
          },
          "execution_count": 10
        }
      ]
    },
    {
      "cell_type": "code",
      "metadata": {
        "id": "-YJ-4NgEUDgf"
      },
      "source": [
        "#### Nowosci\n",
        "\n",
        "studenci_slownik = {123: 123,\"Igor\":3, \"Frankek\":5, \"Zosia\":22,\"Julia\":[2,21], (1,2):\"Krotka\"}"
      ],
      "execution_count": null,
      "outputs": []
    },
    {
      "cell_type": "code",
      "metadata": {
        "id": "7LuxbPKlUDgl",
        "outputId": "da2318fa-8d80-4afd-d6dc-bff022c54abc"
      },
      "source": [
        "print(studenci_slownik)"
      ],
      "execution_count": null,
      "outputs": [
        {
          "output_type": "stream",
          "text": [
            "{123: 123, 'Igor': 3, 'Frankek': 5, 'Zosia': 22, 'Julia': [2, 21], (1, 2): 'Krotka'}\n"
          ],
          "name": "stdout"
        }
      ]
    },
    {
      "cell_type": "code",
      "metadata": {
        "id": "pz-_OfLgUDgr",
        "outputId": "7f2e8ee1-5290-48a4-9bff-621621b3443a"
      },
      "source": [
        "studenci_slownik[\"Zosia\"]"
      ],
      "execution_count": null,
      "outputs": [
        {
          "output_type": "execute_result",
          "data": {
            "text/plain": [
              "22"
            ]
          },
          "metadata": {
            "tags": []
          },
          "execution_count": 21
        }
      ]
    },
    {
      "cell_type": "code",
      "metadata": {
        "id": "yXU07I0pUDgy",
        "outputId": "a331b86f-6613-47b6-873e-f9671240ed80"
      },
      "source": [
        "for elementy in studenci_slownik:\n",
        "    print(elementy)\n",
        "\n",
        "print(\"*\"*20)\n",
        "for elementy in studenci_slownik.keys():\n",
        "    print(elementy)"
      ],
      "execution_count": null,
      "outputs": [
        {
          "output_type": "stream",
          "text": [
            "123\n",
            "Igor\n",
            "Frankek\n",
            "Zosia\n",
            "Julia\n",
            "(1, 2)\n",
            "********************\n",
            "123\n",
            "Igor\n",
            "Frankek\n",
            "Zosia\n",
            "Julia\n",
            "(1, 2)\n"
          ],
          "name": "stdout"
        }
      ]
    },
    {
      "cell_type": "code",
      "metadata": {
        "id": "9DIJAcoxUDg3",
        "outputId": "0968a4ed-3fc4-48c4-fa9f-8bf99778e088"
      },
      "source": [
        "for elementy in studenci_slownik.items():\n",
        "    print(elementy)"
      ],
      "execution_count": null,
      "outputs": [
        {
          "output_type": "stream",
          "text": [
            "('Igor', 3)\n",
            "('Frankek', 5)\n",
            "('Zosia', 22)\n",
            "('Julia', [2, 21])\n"
          ],
          "name": "stdout"
        }
      ]
    },
    {
      "cell_type": "code",
      "metadata": {
        "id": "B-6lIWEuUDg8",
        "outputId": "e502bcae-769a-4252-8842-971f18535a93"
      },
      "source": [
        "for elementy in studenci_slownik.values():\n",
        "    print(elementy)"
      ],
      "execution_count": null,
      "outputs": [
        {
          "output_type": "stream",
          "text": [
            "3\n",
            "5\n",
            "22\n",
            "[2, 21]\n"
          ],
          "name": "stdout"
        }
      ]
    },
    {
      "cell_type": "code",
      "metadata": {
        "id": "5pvxJlFvUDhB"
      },
      "source": [
        "studenci_slownik[\"Cuthulu\"]= -1000000"
      ],
      "execution_count": null,
      "outputs": []
    },
    {
      "cell_type": "code",
      "metadata": {
        "id": "RoZlnbwWUDhF",
        "outputId": "0f2b59f7-c751-4e29-804e-f86da1aaf3b1"
      },
      "source": [
        "studenci_slownik"
      ],
      "execution_count": null,
      "outputs": [
        {
          "output_type": "execute_result",
          "data": {
            "text/plain": [
              "{'Igor': 3, 'Frankek': 5, 'Zosia': 22, 'Julia': [2, 21], 'Cuthulu': -1000000}"
            ]
          },
          "metadata": {
            "tags": []
          },
          "execution_count": 31
        }
      ]
    },
    {
      "cell_type": "code",
      "metadata": {
        "id": "ZR9Q0LuaUDhK",
        "outputId": "48f33471-6a29-4b23-fcc1-e11c8bbd9c3a"
      },
      "source": [
        "automatyczna_lista=[liczba**2 for liczba in range(100) if liczba%4==0]\n",
        "print(automatyczna_lista)"
      ],
      "execution_count": null,
      "outputs": [
        {
          "output_type": "stream",
          "text": [
            "[0, 16, 64, 144, 256, 400, 576, 784, 1024, 1296, 1600, 1936, 2304, 2704, 3136, 3600, 4096, 4624, 5184, 5776, 6400, 7056, 7744, 8464, 9216]\n"
          ],
          "name": "stdout"
        }
      ]
    },
    {
      "cell_type": "code",
      "metadata": {
        "id": "PuFSTVu7UDhP",
        "outputId": "eab59f3a-0423-4946-e589-414948010ffe"
      },
      "source": [
        "studenci = studenci_slownik.keys()\n",
        "automatyczny_slownik=dict(para for para in enumerate(studenci))\n",
        "print(automatyczny_slownik)"
      ],
      "execution_count": null,
      "outputs": [
        {
          "output_type": "stream",
          "text": [
            "{0: 'Igor', 1: 'Frankek', 2: 'Zosia', 3: 'Julia', 4: 'Cuthulu'}\n"
          ],
          "name": "stdout"
        }
      ]
    },
    {
      "cell_type": "code",
      "metadata": {
        "id": "eJfUNmU1UDhT"
      },
      "source": [
        "##### zbiory\n",
        "\n",
        "a={1,2,3,\"Franek\"}\n",
        "b={2,3,4,\"Franek\"}\n"
      ],
      "execution_count": null,
      "outputs": []
    },
    {
      "cell_type": "code",
      "metadata": {
        "id": "YmmAJwcRUDhZ",
        "outputId": "cc32df27-05d9-456e-fb05-eb313fb0137d"
      },
      "source": [
        "a|b #suma zbiorów, sum of sets"
      ],
      "execution_count": null,
      "outputs": [
        {
          "output_type": "execute_result",
          "data": {
            "text/plain": [
              "{1, 2, 3, 4, 'Franek'}"
            ]
          },
          "metadata": {
            "tags": []
          },
          "execution_count": 23
        }
      ]
    },
    {
      "cell_type": "code",
      "metadata": {
        "id": "N5NNvRKmUDhf",
        "outputId": "56706ce5-7c3f-4795-a08b-d32a4fd33706"
      },
      "source": [
        "a.add(\"Franek\")\n",
        "print(a)"
      ],
      "execution_count": null,
      "outputs": [
        {
          "output_type": "stream",
          "text": [
            "{1, 2, 3, 'Franek'}\n"
          ],
          "name": "stdout"
        }
      ]
    },
    {
      "cell_type": "code",
      "metadata": {
        "id": "fV-EmW35UDhi",
        "outputId": "607dd5a2-b2a6-4b32-b74a-40be0e3223bb"
      },
      "source": [
        "1 in a\n",
        "\"Igor\" in studenci_slownik"
      ],
      "execution_count": null,
      "outputs": [
        {
          "output_type": "execute_result",
          "data": {
            "text/plain": [
              "True"
            ]
          },
          "metadata": {
            "tags": []
          },
          "execution_count": 25
        }
      ]
    },
    {
      "cell_type": "markdown",
      "metadata": {
        "id": "GfboWDATUDhn"
      },
      "source": [
        "### Własne typy"
      ]
    },
    {
      "cell_type": "code",
      "metadata": {
        "id": "x0iyvWtKUDho"
      },
      "source": [
        "zajecia = [[\"wf\"],\n",
        "           [\"informatyka\", \"nauka czytania\"],\n",
        "           [\"relax\", \"jedzenie\"],\n",
        "           [\"mispy\",\"mispy w domu\"],\n",
        "           [\"piateczek\", \"praca domowa z mispow\", \"Ilovemispy\", \"mispy w czasie snu\"]\n",
        "          ]\n",
        "\n",
        "dnityg= [\"Pon\",\"Wto\",\"Sro\",\"Czwar\",\"Pio\"]\n",
        "\n",
        "def dodaj_dwie_liczby(liczba1,liczba2):\n",
        "    return liczba1+liczba2"
      ],
      "execution_count": null,
      "outputs": []
    },
    {
      "cell_type": "code",
      "metadata": {
        "id": "eCkZSfFkUDhs"
      },
      "source": [
        "class DzienZajec():\n",
        "    \"\"\"obiekt trzymający dany dzień zajęć i przypisane mu metody\"\"\"\n",
        "    \n",
        "    \n",
        "    def __init__(self, lista_na_dany_dzien, nazwa_dnia): #definicja\n",
        "        self.lista_zajec= lista_na_dany_dzien\n",
        "        self.dzien = nazwa_dnia\n",
        "        \n",
        "\n",
        "    \n",
        "    def ile_mispow(self):\n",
        "        ile_m = sum([1 for zajecie in self.lista_zajec if \"misp\" in zajecie.lower()])\n",
        "        return ile_m\n",
        "\n",
        "    @property #zamienia na wlasciwosc   \n",
        "    def ile_zajec(self):\n",
        "        return len(self.lista_zajec)\n",
        "    \n",
        "    def __repr__(self):\n",
        "        zajecia_do_stringa = \", \".join(self.lista_zajec)\n",
        "        return \"W dzien {} mam zajecia: {}\".format(self.dzien, zajecia_do_stringa)\n",
        "    "
      ],
      "execution_count": null,
      "outputs": []
    },
    {
      "cell_type": "code",
      "metadata": {
        "id": "21ulW66eUDhy"
      },
      "source": [
        "pio_zajecia = DzienZajec([\"piateczek\", \"praca domowa z mispow\", \"Ilovemispy\", \"mispy w czasie snu\"],\n",
        "                        \"piatek\")"
      ],
      "execution_count": null,
      "outputs": []
    },
    {
      "cell_type": "code",
      "metadata": {
        "id": "gliBRw-WUDh2",
        "outputId": "3f64b8ed-9ebd-4964-9094-a55d199021f3"
      },
      "source": [
        "pio_zajecia.ile_zajec"
      ],
      "execution_count": null,
      "outputs": [
        {
          "output_type": "execute_result",
          "data": {
            "text/plain": [
              "4"
            ]
          },
          "metadata": {
            "tags": []
          },
          "execution_count": 32
        }
      ]
    },
    {
      "cell_type": "code",
      "metadata": {
        "id": "c8OjIyzzUDh5",
        "outputId": "e8b817e5-101b-4a64-8c55-235105df6018"
      },
      "source": [
        "print(pio_zajecia)"
      ],
      "execution_count": null,
      "outputs": [
        {
          "output_type": "stream",
          "text": [
            "W dzien piatek mam zajecia: piateczek, praca domowa z mispow, Ilovemispy, mispy w czasie snu\n"
          ],
          "name": "stdout"
        }
      ]
    },
    {
      "cell_type": "code",
      "metadata": {
        "id": "Gd5Hub8aUDh-",
        "outputId": "0f515a41-7a90-4ff6-f433-b5d9b1e88943"
      },
      "source": [
        "pio_zajecia.lista_zajec"
      ],
      "execution_count": null,
      "outputs": [
        {
          "output_type": "execute_result",
          "data": {
            "text/plain": [
              "['piateczek', 'praca domowa z mispow', 'Ilovemispy', 'mispy w czasie snu']"
            ]
          },
          "metadata": {
            "tags": []
          },
          "execution_count": 33
        }
      ]
    },
    {
      "cell_type": "code",
      "metadata": {
        "id": "Y79ZGxOrUDiC",
        "outputId": "e5c6e3fa-9297-455d-b21d-f575a3f01a8d"
      },
      "source": [
        "pio_zajecia.lista_zajec.append(\"MISP\")\n",
        "print(pio_zajecia.lista_zajec)"
      ],
      "execution_count": null,
      "outputs": [
        {
          "output_type": "stream",
          "text": [
            "['piateczek', 'praca domowa z mispow', 'Ilovemispy', 'mispy w czasie snu', 'MISP']\n"
          ],
          "name": "stdout"
        }
      ]
    },
    {
      "cell_type": "code",
      "metadata": {
        "id": "KqelbhdPUDiF",
        "outputId": "95d72919-cb3a-4afb-ae20-bff39d4c5129"
      },
      "source": [
        "pio_zajecia.ile_mispow()"
      ],
      "execution_count": null,
      "outputs": [
        {
          "output_type": "execute_result",
          "data": {
            "text/plain": [
              "4"
            ]
          },
          "metadata": {
            "tags": []
          },
          "execution_count": 35
        }
      ]
    },
    {
      "cell_type": "code",
      "metadata": {
        "id": "PdV4j9nYUDiM",
        "outputId": "65c85bc8-9d79-45c3-ceaf-e33fc057f5ba"
      },
      "source": [
        "print(pio_zajecia.lista_zajec)\n"
      ],
      "execution_count": null,
      "outputs": [
        {
          "output_type": "stream",
          "text": [
            "['piateczek', 'praca domowa z mispow', 'Ilovemispy', 'mispy w czasie snu', 'MISP']\n"
          ],
          "name": "stdout"
        }
      ]
    },
    {
      "cell_type": "code",
      "metadata": {
        "id": "6UNfu1QMUDiR",
        "outputId": "9a827af4-c523-4ca3-a258-33860a041298"
      },
      "source": [
        "pio_zajecia"
      ],
      "execution_count": null,
      "outputs": [
        {
          "output_type": "execute_result",
          "data": {
            "text/plain": [
              "W dzien piatek mam zajecia: piateczek, praca domowa z mispow, Ilovemispy, mispy w czasie snu, MISP"
            ]
          },
          "metadata": {
            "tags": []
          },
          "execution_count": 85
        }
      ]
    },
    {
      "cell_type": "code",
      "metadata": {
        "id": "TIYBeZd-UDiU",
        "outputId": "f09be811-d324-4b8c-a139-af168b58cf08"
      },
      "source": [
        "print(pio_zajecia.ile_zajec)"
      ],
      "execution_count": null,
      "outputs": [
        {
          "output_type": "stream",
          "text": [
            "5\n"
          ],
          "name": "stdout"
        }
      ]
    },
    {
      "cell_type": "code",
      "metadata": {
        "id": "omv-FGJnUDia"
      },
      "source": [
        "lista_zajec= [DzienZajec(lista_dzien, dzien) for lista_dzien, dzien in \n",
        "             zip(zajecia,dnityg)]"
      ],
      "execution_count": null,
      "outputs": []
    },
    {
      "cell_type": "code",
      "metadata": {
        "id": "Atr54kAkUDif",
        "outputId": "403cf9aa-2b49-4ba6-be6c-7e47e4f992ae"
      },
      "source": [
        "print(lista_zajec)"
      ],
      "execution_count": null,
      "outputs": [
        {
          "output_type": "stream",
          "text": [
            "[W dzien Pon mam zajecia: wf, W dzien Wto mam zajecia: informatyka, nauka czytania, W dzien Sro mam zajecia: relax, jedzenie, W dzien Czwar mam zajecia: mispy, mispy w domu, W dzien Pio mam zajecia: piateczek, praca domowa z mispow, Ilovemispy, mispy w czasie snu]\n"
          ],
          "name": "stdout"
        }
      ]
    },
    {
      "cell_type": "code",
      "metadata": {
        "id": "c1wJ5WQmUDii"
      },
      "source": [
        "posortowane_po_zajeciach=sorted(lista_zajec, key= lambda zajecie: zajecie.ile_zajec)\n",
        "posortowane_po_mispach=sorted(lista_zajec, key= lambda zajecie: zajecie.ile_mispow())"
      ],
      "execution_count": null,
      "outputs": []
    },
    {
      "cell_type": "code",
      "metadata": {
        "id": "kDB1Z6X5UDil",
        "outputId": "738dc0bd-5646-4d78-96a1-381beea93b50"
      },
      "source": [
        "print(posortowane_po_zajeciach)"
      ],
      "execution_count": null,
      "outputs": [
        {
          "output_type": "stream",
          "text": [
            "[W dzien Pon mam zajecia: wf, W dzien Wto mam zajecia: informatyka, nauka czytania, W dzien Sro mam zajecia: relax, jedzenie, W dzien Czwar mam zajecia: mispy, mispy w domu, W dzien Pio mam zajecia: piateczek, praca domowa z mispow, Ilovemispy, mispy w czasie snu]\n"
          ],
          "name": "stdout"
        }
      ]
    },
    {
      "cell_type": "code",
      "metadata": {
        "id": "xobuno-tUDio",
        "outputId": "213c444c-a5a5-4f50-9509-e6262a302134"
      },
      "source": [
        "print(posortowane_po_mispach)"
      ],
      "execution_count": null,
      "outputs": [
        {
          "output_type": "stream",
          "text": [
            "[W dzien Pon mam zajecia: wf, W dzien Wto mam zajecia: informatyka, nauka czytania, W dzien Sro mam zajecia: relax, jedzenie, W dzien Czwar mam zajecia: mispy, mispy w domu, W dzien Pio mam zajecia: piateczek, praca domowa z mispow, Ilovemispy, mispy w czasie snu]\n"
          ],
          "name": "stdout"
        }
      ]
    },
    {
      "cell_type": "markdown",
      "metadata": {
        "id": "Tz51UXKhUDir"
      },
      "source": [
        "##### challenge 1\n",
        "\n",
        "Stworz typ NumerTelefonu\n",
        "\n",
        " -- przy tworzeniu sprawdza czy właściwy numer (Polski) jeśli nie pisze, że error (ew. Exception)\n",
        " \n",
        " -- gdy printuję to mi pisze polskimi słowami i.e. \"jeden, pięć, siedem, zero\"\n",
        " \n",
        " -- gdy wywołuję właściwość wojewodzwtwo, podaje mi wojewodztwo ew. ze to komorkowy\n",
        " \n",
        " "
      ]
    },
    {
      "cell_type": "code",
      "metadata": {
        "id": "XGdyZUWuUDis",
        "outputId": "eb5a72d2-9f86-4a38-d6db-a537b353db8b",
        "colab": {
          "base_uri": "https://localhost:8080/"
        }
      },
      "source": [
        "# ma na takie rzeczy być w stanie odpowiedzieć\n",
        "\n",
        "class Numer_Telefonu():\n",
        "\n",
        "  def __init__(self, numer):\n",
        "    self.numer_telefonu=numer\n",
        "    if len (self.numer_telefonu) == 9:\n",
        "        print(\"Prawidłowy numer\")\n",
        "    else:\n",
        "            print(\"Nie ma takiego numeru\")\n",
        "\n",
        "  \n",
        "\n",
        "  def wojewodztwo(self):\n",
        "    numery_kierunkowe_miast={\"24\":\"Płock\",\"42\":\"Łódź\", \"61\":\"Poznań\",\"22\":\"Warszawa\", \"12\":\"Kraków\"}\n",
        "    numer_kierunkowy= self.numer_telefonu[0]+ self.numer_telefonu[1]\n",
        "    if (self.numer_telefonu):\n",
        "      print(self.numery_kierunkowe_miast[int(self.numer_kierunkowy[0:2])])\n",
        "    else:\n",
        "        print(\"Nie ma takiego numeru\")\n",
        "\n",
        "  def __repr__(self): #domyślny print dla klasy\n",
        "        if (self.numer_telefonu):         \n",
        "            \n",
        "            numer_telefonu = numer_telefonu+ \" \".join(self.liczba[int(cyfra)]\n",
        "            for cyfra in self.numer_telefonu)\n",
        "            return mumer_telefonu\n",
        "        else:\n",
        "            return \"Nie ma takiego numeru\"\n",
        "\n",
        "wpisz_numer = NumerTelefonu(\"249822123\")\n",
        "wpisz_numer.wojewodztwo\n",
        "print(wpisz_numer)"
      ],
      "execution_count": 100,
      "outputs": [
        {
          "output_type": "stream",
          "text": [
            "Prawidłowy numer\n",
            "Nr. komórkowy\n",
            "dwa cztery dziewięć osiem dwa dwa jeden dwa trzy\n"
          ],
          "name": "stdout"
        }
      ]
    }
  ]
}
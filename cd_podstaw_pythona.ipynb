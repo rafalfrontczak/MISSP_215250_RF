    {
      "source": [
        "##### challenge 1\n",
        "\n",
        "Stworz typ NumerTelefonu\n",
        "\n",
        " -- przy tworzeniu sprawdza czy właściwy numer (Polski) jeśli nie pisze, że error (ew. Exception)\n",
        " \n",
        " -- gdy printuję to mi pisze polskimi słowami i.e. \"jeden, pięć, siedem, zero\"\n",
        " \n",
        " -- gdy wywołuję właściwość wojewodzwtwo, podaje mi wojewodztwo ew. ze to komorkowy\n",
        " \n",
        " "
      ]
    },
    {
      "cell_type": "code",
      "metadata": {
        "id": "XGdyZUWuUDis",
        "outputId": "da70f72b-8a31-4940-ff6c-5ecedc6d1900",
        "colab": {
          "base_uri": "https://localhost:8080/"
        }
      },
      "source": [
        "# ma na takie rzeczy być w stanie odpowiedzieć\n",
        "\n",
        "class Numer_Telefonu():\n",
        "\n",
        "  def __init__(self, numer):\n",
        "    self.numer_telefonu=numer\n",
        "    if len (self.numer_telefonu) == 9:\n",
        "        print(\"Prawidłowy numer\")\n",
        "    else:\n",
        "            print(\"Nie ma takiego numeru\")\n",
        "\n",
        "  \n",
        "\n",
        "  def wojewodztwo(self):\n",
        "    numery_kierunkowe_miast={\"24\":\"Płock\",\"42\":\"Łódź\", \"61\":\"Poznań\",\"22\":\"Warszawa\", \"12\":\"Kraków\"}\n",
        "    numer_kierunkowy= self.numer_telefonu[0]+ self.numer_telefonu[1]\n",
        "    if (self.numer_telefonu):\n",
        "      print(self.numery_kierunkowe_miast[int(self.numer_kierunkowy[0:2])])\n",
        "    else:\n",
        "        print(\"Nie ma takiego numeru\")\n",
        "\n",
        "  def __repr__(self): \n",
        "        if (self.numer_telefonu):         \n",
        "            \n",
        "            numer_telefonu = numer_telefonu+ \" \".join(self.liczba[int(cyfra)]\n",
        "            for cyfra in self.numer_telefonu)\n",
        "            return mumer_telefonu\n",
        "        else:\n",
        "            return \"Nie ma takiego numeru\"\n",
        "\n",
        "wpisz_numer = NumerTelefonu(\"249822123\")\n",
        "wpisz_numer.wojewodztwo\n",
        "print(wpisz_numer)"
      ],
      "execution_count": 101,
      "outputs": [
        {
          "output_type": "stream",
          "text": [
            "Prawidłowy numer\n",
            "Nr. komórkowy\n",
            "dwa cztery dziewięć osiem dwa dwa jeden dwa trzy\n"
          ],
          "name": "stdout"
        }
      ]
    }
  ]
}

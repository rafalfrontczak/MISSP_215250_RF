{
  "nbformat": 4,
  "nbformat_minor": 0,
  "metadata": {
    "colab": {
      "name": "lab1_podstawy_python.ipynb",
      "provenance": []
    },
    "kernelspec": {
      "name": "python3",
      "display_name": "Python 3"
    }
  },
  "cells": [
    {
      "cell_type": "markdown",
      "metadata": {
        "id": "X7cow1G8VBZN"
      },
      "source": [
        "Zadanie 1\r\n",
        "\r\n",
        "W tym zadaniu należało wypirintować zajęcia od środy do piątku ,następnie należało wyprintować zajęcia w poszczególnych dniach oprócz środy"
      ]
    },
    {
      "cell_type": "code",
      "metadata": {
        "colab": {
          "base_uri": "https://localhost:8080/"
        },
        "id": "lsIUXFADVCLq",
        "outputId": "35c1962f-c312-446b-d369-ec139763db1f"
      },
      "source": [
        "#### challenge 0.1\r\n",
        "\r\n",
        "zajecia = [\"wf\",\"informatyka\",\"relax\",\"mispy\",\"piateczek\"]\r\n",
        "\r\n",
        "dnityg= [\"Pon\",\"Wto\",\"Sro\",\"Czwar\",\"Pio\"]\r\n",
        "\r\n",
        "# wyprintuj zajecia od srody do piatku\r\n",
        "print(zajecia[2:5])\r\n",
        "# wyprintuj oprocz srody\r\n",
        "for przedmiot,dzien in zip(zajecia,dnityg):\r\n",
        "    if dzien != \"Sro\":\r\n",
        "        print(przedmiot)"
      ],
      "execution_count": 2,
      "outputs": [
        {
          "output_type": "stream",
          "text": [
            "['relax', 'mispy', 'piateczek']\n",
            "wf\n",
            "informatyka\n",
            "mispy\n",
            "piateczek\n"
          ],
          "name": "stdout"
        }
      ]
    },
    {
      "cell_type": "markdown",
      "metadata": {
        "id": "kXyJVP8JVPHs"
      },
      "source": [
        "Zadaanie 2 oraz  zadanie 3\r\n",
        "\r\n",
        "W zadaniu drugim należało zdefiniować funkcję która będzie zwracała ilość zajęć w danym dniu tygodnia ,a następnie należało posortować dni w zględem ilości zajęć od największej w danym dniu do najmniejszej.\r\n",
        "\r\n",
        "W zadaniu trzecim należało napisać program który będzie zwracał dzień z największą ilość mispów w całym tygodniu\r\n",
        "\r\n",
        "\r\n",
        "\r\n",
        "\r\n"
      ]
    },
    {
      "cell_type": "code",
      "metadata": {
        "colab": {
          "base_uri": "https://localhost:8080/"
        },
        "id": "hS73nbegVQnK",
        "outputId": "5aa8c85f-ed7c-4cc4-b11b-2502ecec2fdb"
      },
      "source": [
        "#### challenge 0.2\r\n",
        "\r\n",
        "zajecia = [[\"wf\"],\r\n",
        "           [\"informatyka\", \"nauka czytania\"],\r\n",
        "           [\"relax\", \"jedzenie\" ],\r\n",
        "           [\"mispy\",\"mispy w domu\"],\r\n",
        "           [\"piateczek\", \"praca domowa z mispow\", \"Ilovemispy\", \"mispy w czasie snu\"]\r\n",
        "          ]\r\n",
        "\r\n",
        "dnityg= [\"Pon\",\"Wto\",\"Sro\",\"Czwar\",\"Pio\"]\r\n",
        "plan = list(zip(dnityg,zajecia))\r\n",
        "# zdefiniuj funkcje ktora poda ile jest zajec danego dnia\r\n",
        "\r\n",
        "def lista_zajec_z_dnia(dzien):\r\n",
        "    return len(dzien[1])\r\n",
        "# lista_zajec_z_dnia -> ile ich jest\r\n",
        "\r\n",
        "\r\n",
        "# posortuj dni po najbardziej zajetych\r\n",
        "for dzien in sorted(plan, reverse=True, key=lista_zajec_z_dnia):\r\n",
        "    print(dzien[0])\r\n",
        "#### challenge 0.3\r\n",
        "# napisz program ktory zdajdzie dzien z najwieksza iloscia mispow\r\n",
        "\r\n",
        "def ilosc_misp(dzien):\r\n",
        "    ileMisp = 0\r\n",
        "    for lekcja in dzien[1]:\r\n",
        "        if \"misp\" in lekcja.lower():\r\n",
        "            ileMisp += 1\r\n",
        "    return ileMisp\r\n",
        "\r\n",
        "print(max(plan, key=ilosc_misp))"
      ],
      "execution_count": 31,
      "outputs": [
        {
          "output_type": "stream",
          "text": [
            "Pio\n",
            "Wto\n",
            "Sro\n",
            "Czwar\n",
            "Pon\n",
            "('Pio', ['piateczek', 'praca domowa z mispow', 'Ilovemispy', 'mispy w czasie snu'])\n"
          ],
          "name": "stdout"
        }
      ]
    },
    {
      "cell_type": "markdown",
      "metadata": {
        "id": "XnCj3HolVVOC"
      },
      "source": [
        "\r\n"
      ]
    }
  ]
}
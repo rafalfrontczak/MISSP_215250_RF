{
  "nbformat": 4,
  "nbformat_minor": 0,
  "metadata": {
    "colab": {
      "name": "lab3_Podstawy_pulp.ipynb",
      "provenance": []
    },
    "kernelspec": {
      "name": "python3",
      "display_name": "Python 3"
    }
  },
  "cells": [
    {
      "cell_type": "markdown",
      "metadata": {
        "id": "5LrOHzRFH9r_"
      },
      "source": [
        "Na zajęciach należało zapoznać się z biblioteką Pulp oraz wykonać następujące zadania:\r\n",
        "\r\n",
        "- przeczytaj materiały dotyczące pulp ze strony internetowej https://coin-or.github.io/pulp/main/index.html oraz przejdź przez blending problem (przepisz do swojego notebooka)\r\n",
        "\r\n",
        "- w blending problem dodaj zmienną decyzyjną. Stwórz zmienną która pojawi się w końcowym składzie produktu (tj. wartość zmiennej będzie miała niezerową postać)\r\n",
        "\r\n",
        "- Dodaj ograniczenie co do zawartości witaminy B\r\n",
        "\r\n",
        "Zawartość:\r\n",
        "\r\n",
        "Nazwa | zawartość ug/100g\r\n",
        "\r\n",
        "chicken |\t0.3\r\n",
        "\r\n",
        "beef |\t2.6\r\n",
        "\r\n",
        "mutton |\t2.6\r\n",
        "\r\n",
        "rice |\t0\r\n",
        "\r\n",
        "wheat bran |\t0\r\n",
        "\r\n",
        "gel |\t0\r\n",
        "\r\n",
        "sardines |\t8.9\r\n",
        "\r\n",
        "\r\n",
        "Kot ma zjeść minimum 0.24 ug na kilogram masy więc około 0.8 ug dziennie\r\n",
        "\r\n"
      ]
    },
    {
      "cell_type": "code",
      "metadata": {
        "colab": {
          "base_uri": "https://localhost:8080/"
        },
        "id": "YgMKBMpGNw_D",
        "outputId": "855affeb-5722-44a7-82e3-deaa64952414"
      },
      "source": [
        " #Aby zrealizować zadanie pierwszą rzeczą jaką trzeba było zrobić to indstalacjia bibilioteki PULP\r\n",
        " !pip install pulp\r\n",
        "\r\n",
        "!sudo apt-get install coinor-cbc glpk-utils coinor-clp"
      ],
      "execution_count": 16,
      "outputs": [
        {
          "output_type": "stream",
          "text": [
            "Requirement already satisfied: pulp in /usr/local/lib/python3.6/dist-packages (2.4)\n",
            "Requirement already satisfied: amply>=0.1.2 in /usr/local/lib/python3.6/dist-packages (from pulp) (0.1.4)\n",
            "Requirement already satisfied: pyparsing in /usr/local/lib/python3.6/dist-packages (from amply>=0.1.2->pulp) (2.4.7)\n",
            "Requirement already satisfied: docutils>=0.3 in /usr/local/lib/python3.6/dist-packages (from amply>=0.1.2->pulp) (0.16)\n",
            "Reading package lists... Done\n",
            "Building dependency tree       \n",
            "Reading state information... Done\n",
            "coinor-cbc is already the newest version (2.9.9+repack1-1).\n",
            "coinor-clp is already the newest version (1.16.11+repack1-1).\n",
            "glpk-utils is already the newest version (4.65-1).\n",
            "0 upgraded, 0 newly installed, 0 to remove and 15 not upgraded.\n"
          ],
          "name": "stdout"
        }
      ]
    },
    {
      "cell_type": "code",
      "metadata": {
        "colab": {
          "base_uri": "https://localhost:8080/"
        },
        "id": "RrV06eSFOG4T",
        "outputId": "628183d3-1e34-4ae5-8bec-52ccf3c306bc"
      },
      "source": [
        "# sprawdzenie czy instalacja się udała\r\n",
        "import pulp\r\n",
        "\r\n",
        "print(pulp.__version__)\r\n"
      ],
      "execution_count": 9,
      "outputs": [
        {
          "output_type": "stream",
          "text": [
            "2.4\n"
          ],
          "name": "stdout"
        }
      ]
    },
    {
      "cell_type": "code",
      "metadata": {
        "colab": {
          "base_uri": "https://localhost:8080/"
        },
        "id": "3tIdGO40Ldm0",
        "outputId": "78a3c2a3-7a56-40ba-ae7e-8637cd8fcb8d"
      },
      "source": [
        "from pulp import *\r\n",
        "\r\n",
        "prob = LpProblem(\"The Whiskas Problem\",LpMinimize)\r\n",
        "\r\n",
        "Ingredients = ['CHICKEN', 'BEEF', 'MUTTON', 'RICE', 'WHEAT', 'GEL', 'SARDINES']\r\n",
        "\r\n",
        "costs = {'CHICKEN': 0.013, \r\n",
        "         'BEEF': 0.008, \r\n",
        "         'MUTTON': 0.010, \r\n",
        "         'RICE': 0.002, \r\n",
        "         'WHEAT': 0.005, \r\n",
        "         'GEL': 0.001, \r\n",
        "         'SARDINES': 0.0085}\r\n",
        "proteinPercent = {'CHICKEN': 0.100, \r\n",
        "                  'BEEF': 0.200, \r\n",
        "                  'MUTTON': 0.150, \r\n",
        "                  'RICE': 0.000, \r\n",
        "                  'WHEAT': 0.040, \r\n",
        "                  'GEL': 0.000, \r\n",
        "                  'SARDINES': 0.25}\r\n",
        "fatPercent = {'CHICKEN': 0.080, \r\n",
        "              'BEEF': 0.100, \r\n",
        "              'MUTTON': 0.110, \r\n",
        "              'RICE': 0.010, \r\n",
        "              'WHEAT': 0.010, \r\n",
        "              'GEL': 0.000, \r\n",
        "              'SARDINES': 0.11}\r\n",
        "fibrePercent = {'CHICKEN': 0.001, \r\n",
        "                'BEEF': 0.005, \r\n",
        "                'MUTTON': 0.003, \r\n",
        "                'RICE': 0.100, \r\n",
        "                'WHEAT': 0.150, \r\n",
        "                'GEL': 0.000, \r\n",
        "                'SARDINES': 0.0}\r\n",
        "saltPercent = {'CHICKEN': 0.002, \r\n",
        "               'BEEF': 0.005, \r\n",
        "               'MUTTON': 0.007, \r\n",
        "               'RICE': 0.002, \r\n",
        "               'WHEAT': 0.008, \r\n",
        "               'GEL': 0.000, \r\n",
        "               'SARDINES': 0.00505}\r\n",
        "vitaminBinug = {'CHICKEN': 0.003, \r\n",
        "                'BEEF': 0.026, \r\n",
        "                'MUTTON': 0.026, \r\n",
        "                'RICE': 0.0, \r\n",
        "                'WHEAT': 0.0, \r\n",
        "                'GEL': 0.0, \r\n",
        "                'SARDINES': 0.089}\r\n",
        "ingredient_vars = LpVariable.dicts(\"Ingr\",Ingredients,0)\r\n",
        "\r\n",
        "prob += lpSum([costs[i]*ingredient_vars[i] for i in Ingredients]), \"Total Cost of Ingredients per can\"\r\n",
        "prob += lpSum([ingredient_vars[i] for i in Ingredients]) == 100, \"PercentagesSum\"\r\n",
        "prob += lpSum([proteinPercent[i] * ingredient_vars[i] for i in Ingredients]) >= 8.0, \"ProteinRequirement\"\r\n",
        "prob += lpSum([fatPercent[i] * ingredient_vars[i] for i in Ingredients]) >= 6.0, \"FatRequirement\"\r\n",
        "prob += lpSum([fibrePercent[i] * ingredient_vars[i] for i in Ingredients]) <= 2.0, \"FibreRequirement\"\r\n",
        "prob += lpSum([saltPercent[i] * ingredient_vars[i] for i in Ingredients]) <= 0.4, \"SaltRequirement\"\r\n",
        "prob += lpSum([vitaminBinug[i] * ingredient_vars[i] for i in Ingredients]) >= 0.8 , \"VitaminBRequirement\"\r\n",
        "\r\n",
        "\r\n",
        "prob.solve()\r\n",
        "\r\n",
        "ingr = \", \".join([\"{}: {}%\".format(name,round(i.varValue,2)) for i,name in zip(prob.variables(),sorted(Ingredients))])\r\n",
        "\r\n",
        "print(\"Końcowy produkt będzie kosztować {}$, będzie miał w składzie {}\".format(round(value(prob.objective),2),ingr))"
      ],
      "execution_count": 18,
      "outputs": [
        {
          "output_type": "stream",
          "text": [
            "Końcowy produkt będzie kosztować 0.51$, będzie miał w składzie BEEF: 0.0%, CHICKEN: 0.0%, GEL: 45.45%, MUTTON: 0.0%, RICE: 0.0%, SARDINES: 54.55%, WHEAT: 0.0%\n"
          ],
          "name": "stdout"
        },
        {
          "output_type": "stream",
          "text": [
            "/usr/local/lib/python3.6/dist-packages/pulp/pulp.py:1199: UserWarning: Spaces are not permitted in the name. Converted to '_'\n",
            "  warnings.warn(\"Spaces are not permitted in the name. Converted to '_'\")\n"
          ],
          "name": "stderr"
        }
      ]
    }
  ]
}